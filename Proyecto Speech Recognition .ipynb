{
 "cells": [
  {
   "cell_type": "code",
   "execution_count": 55,
   "metadata": {},
   "outputs": [],
   "source": [
    "#Importamos todas las librerias correspondientes a nuestro trabajo\n",
    "import numpy as np\n",
    "import tensorflow as tf\n",
    "import speech_recognition as sr"
   ]
  },
  {
   "cell_type": "code",
   "execution_count": 56,
   "metadata": {},
   "outputs": [],
   "source": [
    "r = sr.Recognizer()\n",
    "def entradaDelMicrofono():\n",
    "    with sr.Microphone() as source:                # use the default microphone as the audio source\n",
    "        audio = r.listen(source) \n",
    "    return audio\n",
    "\n",
    "def vozATexto(audio):\n",
    "    account_key = \"W3JHNLMQ4I7FLKIM5OSOM5FJCG5RKJQF\"\n",
    "    try:\n",
    "        sentence = r.recognize_wit(audio, key=account_key)    \n",
    "        # recognize speech using CMUsphinx Speech Recognition - OFFLINE\n",
    "    except LookupError:                            # speech is unintelligible\n",
    "        print(\"Excepción no controlada con la entrada del audio o el servicio web de Wit.\")\n",
    "    return sentence\n"
   ]
  },
  {
   "cell_type": "code",
   "execution_count": 54,
   "metadata": {},
   "outputs": [
    {
     "name": "stdout",
     "output_type": "stream",
     "text": [
      "1\n"
     ]
    }
   ],
   "source": [
    "audio = entradaDelMicrofono()\n",
    "texto = vozATexto(audio)\n",
    "print (texto)"
   ]
  },
  {
   "cell_type": "code",
   "execution_count": 53,
   "metadata": {},
   "outputs": [
    {
     "data": {
      "text/plain": [
       "'verdadero'"
      ]
     },
     "execution_count": 53,
     "metadata": {},
     "output_type": "execute_result"
    }
   ],
   "source": []
  },
  {
   "cell_type": "code",
   "execution_count": null,
   "metadata": {},
   "outputs": [],
   "source": []
  }
 ],
 "metadata": {
  "kernelspec": {
   "display_name": "Python 3",
   "language": "python",
   "name": "python3"
  },
  "language_info": {
   "codemirror_mode": {
    "name": "ipython",
    "version": 3
   },
   "file_extension": ".py",
   "mimetype": "text/x-python",
   "name": "python",
   "nbconvert_exporter": "python",
   "pygments_lexer": "ipython3",
   "version": "3.6.4"
  }
 },
 "nbformat": 4,
 "nbformat_minor": 2
}
