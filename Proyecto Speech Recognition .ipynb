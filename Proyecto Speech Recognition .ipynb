{
 "cells": [
  {
   "cell_type": "code",
   "execution_count": 14,
   "metadata": {},
   "outputs": [],
   "source": [
    "#Importamos todas las librerias correspondientes a nuestro trabajo\n",
    "import numpy as np\n",
    "import tensorflow as tf\n",
    "import speech_recognition as sr\n",
    "import os"
   ]
  },
  {
   "cell_type": "code",
   "execution_count": 39,
   "metadata": {},
   "outputs": [],
   "source": [
    "r = sr.Recognizer()\n",
    "def entradaDelMicrofono():\n",
    "    with sr.Microphone() as source:                # use the default microphone as the audio source\n",
    "        audio = r.listen( source, phrase_time_limit=5) \n",
    "    return audio\n",
    "\n",
    "def vozATexto(audio):\n",
    "    account_key = \"W3JHNLMQ4I7FLKIM5OSOM5FJCG5RKJQF\"\n",
    "    try:\n",
    "        sentence = r.recognize_wit(audio, key=account_key)    \n",
    "        # recognize speech using CMUsphinx Speech Recognition - OFFLINE\n",
    "    except LookupError:                            # speech is unintelligible\n",
    "        print(\"Excepción no controlada con la entrada del audio o el servicio web de Wit.\")\n",
    "    return sentence\n"
   ]
  },
  {
   "cell_type": "code",
   "execution_count": 40,
   "metadata": {},
   "outputs": [],
   "source": [
    "def ejecutarEImprimircomando(comando):\n",
    "    resultado = os.popen(comando)\n",
    "    datos= resultado.readlines()\n",
    "    for line in datos:\n",
    "        print(line)"
   ]
  },
  {
   "cell_type": "code",
   "execution_count": 53,
   "metadata": {},
   "outputs": [
    {
     "name": "stdout",
     "output_type": "stream",
     "text": [
      "CD documentos\n"
     ]
    }
   ],
   "source": [
    "audio = entradaDelMicrofono()\n",
    "texto = vozATexto(audio)\n",
    "print (texto)\n",
    "ejecutarEImprimircomando(texto)"
   ]
  },
  {
   "cell_type": "code",
   "execution_count": 49,
   "metadata": {},
   "outputs": [
    {
     "name": "stdout",
     "output_type": "stream",
     "text": [
      "Help on method listen in module speech_recognition:\n",
      "\n",
      "listen(source, timeout=None, phrase_time_limit=None) method of speech_recognition.Recognizer instance\n",
      "    Records a single phrase from ``source`` (an ``AudioSource`` instance) into an ``AudioData`` instance, which it returns.\n",
      "    \n",
      "    This is done by waiting until the audio has an energy above ``recognizer_instance.energy_threshold`` (the user has started speaking), and then recording until it encounters ``recognizer_instance.pause_threshold`` seconds of non-speaking or there is no more audio input. The ending silence is not included.\n",
      "    \n",
      "    The ``timeout`` parameter is the maximum number of seconds that this will wait for a phrase to start before giving up and throwing an ``speech_recognition.WaitTimeoutError`` exception. If ``timeout`` is ``None``, there will be no wait timeout.\n",
      "    \n",
      "    The ``phrase_time_limit`` parameter is the maximum number of seconds that this will allow a phrase to continue before stopping and returning the part of the phrase processed before the time limit was reached. The resulting audio will be the phrase cut off at the time limit. If ``phrase_timeout`` is ``None``, there will be no phrase time limit.\n",
      "    \n",
      "    This operation will always complete within ``timeout + phrase_timeout`` seconds if both are numbers, either by returning the audio data, or by raising an exception.\n",
      "\n"
     ]
    }
   ],
   "source": [
    "help(r.listen)"
   ]
  },
  {
   "cell_type": "code",
   "execution_count": null,
   "metadata": {},
   "outputs": [],
   "source": []
  }
 ],
 "metadata": {
  "kernelspec": {
   "display_name": "Python 3",
   "language": "python",
   "name": "python3"
  },
  "language_info": {
   "codemirror_mode": {
    "name": "ipython",
    "version": 3
   },
   "file_extension": ".py",
   "mimetype": "text/x-python",
   "name": "python",
   "nbconvert_exporter": "python",
   "pygments_lexer": "ipython3",
   "version": "3.6.4"
  }
 },
 "nbformat": 4,
 "nbformat_minor": 2
}
